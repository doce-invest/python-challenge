{
 "cells": [
  {
   "cell_type": "code",
   "execution_count": 51,
   "id": "784f20f6",
   "metadata": {},
   "outputs": [],
   "source": [
    "# Modules\n",
    "import os\n",
    "import csv"
   ]
  },
  {
   "cell_type": "code",
   "execution_count": 52,
   "id": "01212b9f",
   "metadata": {},
   "outputs": [
    {
     "name": "stdout",
     "output_type": "stream",
     "text": [
      "Resources\\election_data.csv\n"
     ]
    }
   ],
   "source": [
    "# Set path for file\n",
    "file_path = os.path.join(\"Resources\", \"election_data.csv\")\n",
    "print(file_path)"
   ]
  },
  {
   "cell_type": "code",
   "execution_count": 53,
   "id": "5e29f34a",
   "metadata": {},
   "outputs": [],
   "source": [
    "# Initialize variables\n",
    "total_votes = 0\n",
    "candidates = {}\n",
    "winner = \"\"\n",
    "winner_votes = 0"
   ]
  },
  {
   "cell_type": "code",
   "execution_count": 54,
   "id": "c3602cab",
   "metadata": {},
   "outputs": [],
   "source": [
    "# Read the CSV file\n",
    "with open(file_path, mode='r') as csvfile:\n",
    "    csvreader = csv.DictReader(csvfile)# Iterate through each row\n",
    "    for row in csvreader:\n",
    "        total_votes += 1\n",
    "        candidate_name = row['Candidate']\n",
    "        \n",
    "        # If the candidate is already in the dictionary, increment their vote count\n",
    "        if candidate_name in candidates:\n",
    "            candidates[candidate_name] += 1\n",
    "        else:\n",
    "        # Otherwise, add the candidate to the dictionary\n",
    "            candidates[candidate_name] = 1"
   ]
  },
  {
   "cell_type": "code",
   "execution_count": 55,
   "id": "d9272713",
   "metadata": {},
   "outputs": [
    {
     "name": "stdout",
     "output_type": "stream",
     "text": [
      "Election Results\n",
      "-------------------------\n",
      "Total Votes: 369711\n",
      "-------------------------\n",
      "Charles Casper Stockham: 23.049% (85213)\n",
      "Diana DeGette: 73.812% (272892)\n",
      "Raymon Anthony Doane: 3.139% (11606)\n",
      "-------------------------\n",
      "Winner: Diana DeGette\n",
      "-------------------------\n"
     ]
    }
   ],
   "source": [
    "print (\"Election Results\")\n",
    "print(\"-------------------------\")\n",
    "print(f\"Total Votes: {total_votes}\")\n",
    "print(\"-------------------------\")\n",
    "for candidate, votes in candidates.items():\n",
    "    vote_percentage = (votes / total_votes) * 100\n",
    "    print(f\"{candidate}: {vote_percentage:.3f}% ({votes})\")\n",
    "    if votes > winner_votes:\n",
    "        winner = candidate\n",
    "        winner_votes = votes\n",
    "# Print out the winner\n",
    "print(\"-------------------------\")\n",
    "print(f\"Winner: {winner}\")\n",
    "print(\"-------------------------\")"
   ]
  },
  {
   "cell_type": "code",
   "execution_count": 57,
   "id": "12a32218",
   "metadata": {},
   "outputs": [
    {
     "name": "stdout",
     "output_type": "stream",
     "text": [
      "Election Results\n",
      "-------------------------\n",
      "Total Votes: 369711\n",
      "-------------------------\n",
      "Charles Casper Stockham: 23.049% (85213)\n",
      "Diana DeGette: 73.812% (272892)\n",
      "Raymon Anthony Doane: 3.139% (11606)\n",
      "-------------------------\n",
      "Winner: Diana DeGette\n",
      "-------------------------\n",
      "\n"
     ]
    }
   ],
   "source": [
    "election_summary = \"Election Results\\n\"\n",
    "election_summary += \"-------------------------\\n\"\n",
    "election_summary += f\"Total Votes: {total_votes}\\n\"\n",
    "election_summary += \"-------------------------\\n\"\n",
    "\n",
    "for candidate, votes in candidates.items():\n",
    "    vote_percentage = (votes / total_votes) * 100\n",
    "    election_summary += f\"{candidate}: {vote_percentage:.3f}% ({votes})\\n\"\n",
    "    if votes > winner_votes:\n",
    "        winner = candidate\n",
    "        winner_votes = votes\n",
    "\n",
    "# Append the winner to the summary\n",
    "election_summary += \"-------------------------\\n\"\n",
    "election_summary += f\"Winner: {winner}\\n\"\n",
    "election_summary += \"-------------------------\\n\"\n",
    "\n",
    "# Print the summary\n",
    "print(election_summary)\n",
    "\n",
    "# Write the summary to a text file\n",
    "with open('election_results.txt', 'w') as file:\n",
    "    file.write(election_summary)"
   ]
  },
  {
   "cell_type": "code",
   "execution_count": null,
   "id": "092763de",
   "metadata": {},
   "outputs": [],
   "source": []
  }
 ],
 "metadata": {
  "kernelspec": {
   "display_name": "Python 3 (ipykernel)",
   "language": "python",
   "name": "python3"
  },
  "language_info": {
   "codemirror_mode": {
    "name": "ipython",
    "version": 3
   },
   "file_extension": ".py",
   "mimetype": "text/x-python",
   "name": "python",
   "nbconvert_exporter": "python",
   "pygments_lexer": "ipython3",
   "version": "3.10.13"
  }
 },
 "nbformat": 4,
 "nbformat_minor": 5
}
