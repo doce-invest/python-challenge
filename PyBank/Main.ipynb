{
 "cells": [
  {
   "cell_type": "code",
   "execution_count": 7,
   "id": "a7774cd2",
   "metadata": {},
   "outputs": [],
   "source": [
    "# Modules\n",
    "import os\n",
    "import csv"
   ]
  },
  {
   "cell_type": "code",
   "execution_count": 21,
   "id": "d71a49c4",
   "metadata": {},
   "outputs": [
    {
     "name": "stdout",
     "output_type": "stream",
     "text": [
      "Resources\\budget_data.csv\n"
     ]
    }
   ],
   "source": [
    "# Set path for file\n",
    "file_path = os.path.join(\"Resources\", \"budget_data.csv\")\n",
    "print(file_path)"
   ]
  },
  {
   "cell_type": "code",
   "execution_count": 22,
   "id": "1c00eab6",
   "metadata": {},
   "outputs": [],
   "source": [
    "# Variables\n",
    "total_months = 0\n",
    "total_profit_loss = 0\n",
    "previous_month_profit_loss = None\n",
    "monthly_change = []\n",
    "greatest_increase = [\"\", 0]\n",
    "greatest_decrease = [\"\", float('inf')]"
   ]
  },
  {
   "cell_type": "code",
   "execution_count": 23,
   "id": "84c20ce2",
   "metadata": {},
   "outputs": [],
   "source": [
    "# Read the CSV file\n",
    "with open(file_path, 'r') as csvfile:\n",
    "    csvreader = csv.reader(csvfile)\n",
    "    header = next(csvreader) \n",
    "# For Loop\n",
    "    for row in csvreader:\n",
    "        # Count the total number of months\n",
    "        total_months += 1\n",
    "\n",
    "        # Sum up the total profit/loss\n",
    "        total_profit_loss += int(row[1])\n",
    "\n",
    "        # Calculate the monthly change in profit/loss\n",
    "        if previous_month_profit_loss is not None:\n",
    "            change = int(row[1]) - previous_month_profit_loss\n",
    "            monthly_change.append(change)\n",
    "\n",
    "            # Check for greatest increase and decrease in profits\n",
    "            if change > greatest_increase[1]:\n",
    "                greatest_increase = [row[0], change]\n",
    "            if change < greatest_decrease[1]:\n",
    "                greatest_decrease = [row[0], change]\n",
    "\n",
    "        previous_month_profit_loss = int(row[1])\n"
   ]
  },
  {
   "cell_type": "code",
   "execution_count": 11,
   "id": "c8a7ff9c",
   "metadata": {},
   "outputs": [],
   "source": [
    "# Calculate the average change\n",
    "average_change = sum(monthly_change) / len(monthly_change)"
   ]
  },
  {
   "cell_type": "code",
   "execution_count": 12,
   "id": "983d8f43",
   "metadata": {},
   "outputs": [
    {
     "name": "stdout",
     "output_type": "stream",
     "text": [
      "Financial Analysis\n",
      "--------------------------\n",
      "Total Months: 86\n",
      "Total: $22564198\n",
      "Average Change: $-8311.11\n",
      "Greatest Increase in Profits: Aug-16 ($1862002)\n",
      "Greatest Decrease in Profits: Feb-14 ($-1825558)\n"
     ]
    }
   ],
   "source": [
    "# Print the results\n",
    "print(\"Financial Analysis\")\n",
    "print(\"--------------------------\")\n",
    "print(f\"Total Months: {total_months}\")\n",
    "print(f\"Total: ${total_profit_loss}\")\n",
    "print(f\"Average Change: ${average_change:.2f}\")\n",
    "print(f\"Greatest Increase in Profits: {greatest_increase[0]} (${greatest_increase[1]})\")\n",
    "print(f\"Greatest Decrease in Profits: {greatest_decrease[0]} (${greatest_decrease[1]})\")"
   ]
  },
  {
   "cell_type": "code",
   "execution_count": 14,
   "id": "142032e3",
   "metadata": {},
   "outputs": [],
   "source": [
    "summary = (\n",
    "    \"Financial Analysis\\n\"\n",
    "    \"----------------------------\\n\"\n",
    "    f\"Total Months: {total_months}\\n\"\n",
    "    f\"Total: ${total_profit_loss}\\n\"\n",
    "    f\"Average  Change: ${average_change:.2f}\\n\"\n",
    "    f\"Greatest Increase in Profits: {greatest_increase[0]} (${greatest_increase[1]})\\n\"\n",
    "    f\"Greatest Decrease in Profits: {greatest_decrease[0]} (${greatest_decrease[1]})\"\n",
    ")"
   ]
  },
  {
   "cell_type": "code",
   "execution_count": 17,
   "id": "300c3b20",
   "metadata": {},
   "outputs": [
    {
     "name": "stdout",
     "output_type": "stream",
     "text": [
      "Financial Analysis\n",
      "----------------------------\n",
      "Total Months: 86\n",
      "Total: $22564198\n",
      "Average  Change: $-8311.11\n",
      "Greatest Increase in Profits: Aug-16 ($1862002)\n",
      "Greatest Decrease in Profits: Feb-14 ($-1825558)\n"
     ]
    }
   ],
   "source": [
    "# Print the analysis\n",
    "print(summary)\n",
    "\n",
    "# Write the analysis to the output file\n",
    "with open('analysis_results.txt', 'w') as textfile:\n",
    "    textfile.write(summary)"
   ]
  },
  {
   "cell_type": "code",
   "execution_count": null,
   "id": "4b23f492",
   "metadata": {},
   "outputs": [],
   "source": []
  }
 ],
 "metadata": {
  "kernelspec": {
   "display_name": "Python 3 (ipykernel)",
   "language": "python",
   "name": "python3"
  },
  "language_info": {
   "codemirror_mode": {
    "name": "ipython",
    "version": 3
   },
   "file_extension": ".py",
   "mimetype": "text/x-python",
   "name": "python",
   "nbconvert_exporter": "python",
   "pygments_lexer": "ipython3",
   "version": "3.10.13"
  }
 },
 "nbformat": 4,
 "nbformat_minor": 5
}
